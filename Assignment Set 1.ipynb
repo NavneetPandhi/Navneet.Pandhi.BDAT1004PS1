{
 "cells": [
  {
   "cell_type": "markdown",
   "id": "6ddb9be1",
   "metadata": {},
   "source": [
    "Question 1:\n",
    "\n",
    "\n",
    "What data type is each of the following (evaluate where necessary)?\n"
   ]
  },
  {
   "cell_type": "code",
   "execution_count": 1,
   "id": "11e0db50",
   "metadata": {
    "scrolled": true
   },
   "outputs": [
    {
     "name": "stdout",
     "output_type": "stream",
     "text": [
      "The Dataset is: <class 'int'>\n"
     ]
    }
   ],
   "source": [
    "data = 5\n",
    "dtype = type(data)\n",
    "print(\"The Dataset is:\", dtype)\n"
   ]
  },
  {
   "cell_type": "code",
   "execution_count": 2,
   "id": "89783569",
   "metadata": {},
   "outputs": [
    {
     "name": "stdout",
     "output_type": "stream",
     "text": [
      "The Dataset is: <class 'float'>\n"
     ]
    }
   ],
   "source": [
    "data = 5.0\n",
    "dtype = type(data)\n",
    "print(\"The Dataset is:\", dtype)\n"
   ]
  },
  {
   "cell_type": "code",
   "execution_count": 3,
   "id": "9eadcf90",
   "metadata": {},
   "outputs": [
    {
     "name": "stdout",
     "output_type": "stream",
     "text": [
      "The Dataset is: <class 'bool'>\n"
     ]
    }
   ],
   "source": [
    "data = 5>1\n",
    "dtype = type(data)\n",
    "print(\"The Dataset is:\", dtype)\n"
   ]
  },
  {
   "cell_type": "code",
   "execution_count": 4,
   "id": "772ebb9f",
   "metadata": {},
   "outputs": [
    {
     "name": "stdout",
     "output_type": "stream",
     "text": [
      "The Dataset is: <class 'str'>\n"
     ]
    }
   ],
   "source": [
    "data = '5'\n",
    "dtype = type(data)\n",
    "print(\"The Dataset is:\", dtype)\n"
   ]
  },
  {
   "cell_type": "code",
   "execution_count": 5,
   "id": "61fd4675",
   "metadata": {},
   "outputs": [
    {
     "name": "stdout",
     "output_type": "stream",
     "text": [
      "The Dataset is: <class 'int'>\n"
     ]
    }
   ],
   "source": [
    "data = 5*2\n",
    "dtype = type(data)\n",
    "print(\"The Dataset is:\", dtype)\n"
   ]
  },
  {
   "cell_type": "code",
   "execution_count": 6,
   "id": "d88ad12e",
   "metadata": {},
   "outputs": [
    {
     "name": "stdout",
     "output_type": "stream",
     "text": [
      "The Dataset is: <class 'str'>\n"
     ]
    }
   ],
   "source": [
    "data = '5' * 2\n",
    "dtype = type(data)\n",
    "print(\"The Dataset is:\", dtype)\n"
   ]
  },
  {
   "cell_type": "code",
   "execution_count": 7,
   "id": "14ae6c2d",
   "metadata": {},
   "outputs": [
    {
     "name": "stdout",
     "output_type": "stream",
     "text": [
      "The Dataset is: <class 'str'>\n"
     ]
    }
   ],
   "source": [
    "data = '5' + '2'\n",
    "dtype = type(data)\n",
    "print(\"The Dataset is:\", dtype)"
   ]
  },
  {
   "cell_type": "code",
   "execution_count": 8,
   "id": "8f991ca2",
   "metadata": {},
   "outputs": [
    {
     "name": "stdout",
     "output_type": "stream",
     "text": [
      "The Dataset is: <class 'float'>\n"
     ]
    }
   ],
   "source": [
    "data = 5 / 2\n",
    "dtype = type(data)\n",
    "print(\"The Dataset is:\", dtype)"
   ]
  },
  {
   "cell_type": "code",
   "execution_count": 9,
   "id": "e743c266",
   "metadata": {},
   "outputs": [
    {
     "name": "stdout",
     "output_type": "stream",
     "text": [
      "The Dataset is: <class 'int'>\n"
     ]
    }
   ],
   "source": [
    "data = 5 % 2\n",
    "dtype = type(data)\n",
    "print(\"The Dataset is:\", dtype)"
   ]
  },
  {
   "cell_type": "code",
   "execution_count": 10,
   "id": "be302d11",
   "metadata": {},
   "outputs": [
    {
     "name": "stdout",
     "output_type": "stream",
     "text": [
      "The Dataset is: <class 'set'>\n"
     ]
    }
   ],
   "source": [
    "data = {5, 2, 1}\n",
    "dtype = type(data)\n",
    "print(\"The Dataset is:\", dtype)   "
   ]
  },
  {
   "cell_type": "code",
   "execution_count": 11,
   "id": "41669195",
   "metadata": {},
   "outputs": [
    {
     "name": "stdout",
     "output_type": "stream",
     "text": [
      "The Dataset is: <class 'bool'>\n"
     ]
    }
   ],
   "source": [
    "data = 5 == 3\n",
    "dtype = type(data)\n",
    "print(\"The Dataset is:\", dtype)   "
   ]
  },
  {
   "cell_type": "code",
   "execution_count": 12,
   "id": "9ee7e167",
   "metadata": {},
   "outputs": [
    {
     "name": "stdout",
     "output_type": "stream",
     "text": [
      "The Dataset is: <class 'float'>\n"
     ]
    }
   ],
   "source": [
    "import math\n",
    "data = math.pi\n",
    "dtype = type(data)\n",
    "print(\"The Dataset is:\", dtype)\n"
   ]
  },
  {
   "cell_type": "markdown",
   "id": "754d41eb",
   "metadata": {},
   "source": [
    "Question 2: \n",
    "\n",
    "Write (and evaluate) python expressions that answer these questions:\n"
   ]
  },
  {
   "cell_type": "markdown",
   "id": "031fdc1b",
   "metadata": {},
   "source": [
    "a. How many letters are there in 'Supercalifragilisticexpialidocious'?\n"
   ]
  },
  {
   "cell_type": "code",
   "execution_count": 14,
   "id": "f93659cc",
   "metadata": {},
   "outputs": [
    {
     "name": "stdout",
     "output_type": "stream",
     "text": [
      "The number of words are:  34\n"
     ]
    }
   ],
   "source": [
    "\n",
    "word = 'Supercalifragilisticexpialidocious'\n",
    "num_letters = len(word)                                         #Using len() function to get the length of the word\n",
    "print(\"The number of words are: \", num_letters)\n"
   ]
  },
  {
   "cell_type": "markdown",
   "id": "ef820bc2",
   "metadata": {},
   "source": [
    "b. Does 'Supercalifragilisticexpialidocious' contain 'ice' as a substring? "
   ]
  },
  {
   "cell_type": "code",
   "execution_count": 15,
   "id": "65133f5d",
   "metadata": {},
   "outputs": [
    {
     "name": "stdout",
     "output_type": "stream",
     "text": [
      "True\n"
     ]
    }
   ],
   "source": [
    "word = 'Supercalifragilisticexpialidocious'\n",
    "substring = 'ice'\n",
    "contains_substring = substring in word                          #Checking if the substring is present in the word\n",
    "print(contains_substring)\n"
   ]
  },
  {
   "cell_type": "markdown",
   "id": "c477b328",
   "metadata": {},
   "source": [
    "c. Which of the following words is the longest:\n",
    "Supercalifragilisticexpialidocious, Honorificabilitudinitatibus, or\n",
    "Bababadalgharaghtakamminarronnkonn?"
   ]
  },
  {
   "cell_type": "code",
   "execution_count": 21,
   "id": "d61e3efd",
   "metadata": {},
   "outputs": [
    {
     "name": "stdout",
     "output_type": "stream",
     "text": [
      "The longest words is:  Supercalifragilisticexpialidocious\n"
     ]
    }
   ],
   "source": [
    "words = ['Supercalifragilisticexpialidocious', 'Honorificabilitudinitatibus',\n",
    "         'Bababadalgharaghtakamminarronnkonn']\n",
    "longest_word = max(words, key=len)                             # Finding the longest word using max() function with key=len\n",
    "print( \"The longest words is: \", longest_word)"
   ]
  },
  {
   "cell_type": "markdown",
   "id": "47cc368a",
   "metadata": {},
   "source": [
    "d. Which composer comes first in the dictionary: 'Berlioz', 'Borodin', 'Brian',\n",
    "'Bartok', 'Bellini', 'Buxtehude', 'Bernstein'. Which one comes last?\n"
   ]
  },
  {
   "cell_type": "code",
   "execution_count": 17,
   "id": "d0402c09",
   "metadata": {},
   "outputs": [
    {
     "name": "stdout",
     "output_type": "stream",
     "text": [
      "First composer: Bartok\n",
      "Last composer: Buxtehude\n"
     ]
    }
   ],
   "source": [
    "composers = ['Berlioz', 'Borodin', 'Brian', 'Bartok', 'Bellini', 'Buxtehude', 'Bernstein']\n",
    "first_composer = min(composers)                               # Finding the first composer using min() function\n",
    "last_composer = max(composers)                                # Finding the last composer using max() function\n",
    "print(\"First composer:\", first_composer)  \n",
    "print(\"Last composer:\", last_composer)                   "
   ]
  },
  {
   "cell_type": "markdown",
   "id": "8c636cf6",
   "metadata": {},
   "source": [
    "Question 3 : \n",
    "\n",
    "\n",
    "Implement function triangleArea(a,b,c) that takes as input the lengths of the 3\n",
    "sides of a triangle and returns the area of the triangle. By Heron's formula, the area\n",
    "of a triangle with side lengths a, b, and c is\n",
    "s(s - a)(s -b)(s -c)\n",
    ", where\n",
    "s = (a+b+c)/2.\n",
    "{ triangleArea(2,2,2) is 1.7320508075688772 }\n"
   ]
  },
  {
   "cell_type": "code",
   "execution_count": 6,
   "id": "e0f27b61",
   "metadata": {},
   "outputs": [
    {
     "name": "stdout",
     "output_type": "stream",
     "text": [
      "The Area of a Triangle is :  1.7320508075688772\n"
     ]
    }
   ],
   "source": [
    "import math\n",
    "\n",
    "def AreaOfTriangle(a, b, c):\n",
    "    \n",
    "    s = (a + b + c) / 2                                       # Calculate the semi-perimeter\n",
    "    \n",
    "    area = math.sqrt(s * (s - a) * (s - b) * (s - c))         # Calculate the area using Heron's formula\n",
    "\n",
    "    return area\n",
    "\n",
    "area = AreaOfTriangle(2, 2, 2)                                # Example usage\n",
    "\n",
    "print(\"The Area of a Triangle is : \", area)\n"
   ]
  },
  {
   "cell_type": "markdown",
   "id": "b534f7f9",
   "metadata": {},
   "source": [
    "Question 4 :\n",
    "\n",
    "\n",
    "Write a program in python to separate odd and even integers in separate arrays. Go\n",
    "to the editor\n",
    "Test Data :\n",
    "Input the number of elements to be stored in the array :5\n",
    "Input 5 elements in the array :\n",
    "element - 0 : 25\n",
    "element - 1 : 47\n",
    "element - 2 : 42\n",
    "element - 3 : 56\n",
    "element - 4 : 32\n",
    "Expected Output:\n",
    "The Even elements are:\n",
    "42 56 32\n",
    "The Odd elements are :\n",
    "25 47"
   ]
  },
  {
   "cell_type": "code",
   "execution_count": 4,
   "id": "834c7774",
   "metadata": {},
   "outputs": [
    {
     "name": "stdout",
     "output_type": "stream",
     "text": [
      "Input the number of elements to be stored in the array: 5\n",
      "Element - 0: 1\n",
      "Element - 1: 22\n",
      "Element - 2: 32\n",
      "Element - 3: 33\n",
      "Element - 4: 43\n",
      "The Even elements are: [22, 32]\n",
      "The Odd elements are: [1, 33, 43]\n"
     ]
    }
   ],
   "source": [
    "def separateOddEven(nums):\n",
    "    odd_nums = []                                            # Initialize empty arrays for odd and even numbers\n",
    "    even_nums = []\n",
    "\n",
    "    for num in nums:                                         # Iterate through each number in the input list\n",
    "\n",
    "        if num % 2 != 0:                                     # Check if the number is odd\n",
    "            odd_nums.append(num)                             # Add the odd number to the odd_nums array\n",
    "        else:\n",
    "            even_nums.append(num)                            # Add the even number to the even_nums array\n",
    "\n",
    "    return odd_nums, even_nums\n",
    "\n",
    "try:\n",
    "    num_elements = int(input(\"Input the number of elements to be stored in the array: \"))     # Prompt the user to enter the number of elements\n",
    "\n",
    "    elements = []                                            # Prompt the user to enter the elements\n",
    "    for i in range(num_elements):\n",
    "        element = int(input(\"Element - \" + str(i) + \": \"))\n",
    "        elements.append(element)\n",
    "\n",
    "    odd_elements, even_elements = separateOddEven(elements)  # Separate odd and even elements\n",
    "\n",
    "    print(\"The Even elements are:\", even_elements)           # Print the results\n",
    "\n",
    "    print(\"The Odd elements are:\", odd_elements)\n",
    "\n",
    "except ValueError:\n",
    "    print(\"Error: Invalid input. Please enter valid integers.\")\n"
   ]
  },
  {
   "cell_type": "markdown",
   "id": "6117be1e",
   "metadata": {},
   "source": [
    "Question 5 : \n",
    "\n",
    "a. Write a function inside(x,y,x1,y1,x2,y2) that returns True or False\n",
    "depending on whether the point (x,y) lies in the rectangle with lower left\n",
    "corner (x1,y1) and upper right corner (x2,y2).\n",
    "\n",
    "b. Use function inside() from part a. to write an expression that tests whether\n",
    "the point (1,1) lies in both of the following rectangles: one with lower left\n",
    "corner (0.3, 0.5) and upper right corner (1.1, 0.7) and the other with lower\n",
    "left corner (0.5, 0.2) and upper right corner (1.1, 2). \n"
   ]
  },
  {
   "cell_type": "code",
   "execution_count": 1,
   "id": "24207252",
   "metadata": {},
   "outputs": [
    {
     "name": "stdout",
     "output_type": "stream",
     "text": [
      "The point (1, 1) lies in rectangles 2.\n"
     ]
    }
   ],
   "source": [
    "def inside(x, y, x1, y1, x2, y2):\n",
    "    if x1 <= x <= x2 and y1 <= y <= y2:                                   # Check if (x, y) lies within the rectangle's boundaries\n",
    "        return True\n",
    "    else:\n",
    "        return False\n",
    "\n",
    "    \n",
    "rectangle1 = inside(1, 1, 0.3, 0.5, 1.1, 0.7)                            # Check if (1, 1) is inside rectangle1\n",
    "rectangle2 = inside(1, 1, 0.5, 0.2, 1.1, 2)                              # Check if (1, 1) is inside rectangle2\n",
    "\n",
    "if rectangle1 == True:\n",
    "    print(\"The point (1, 1) lies in rectangle 1.\")\n",
    "elif rectangle2 == True:\n",
    "    print(\"The point (1, 1) lies in rectangle 2.\")\n",
    "\n",
    "\n"
   ]
  },
  {
   "cell_type": "code",
   "execution_count": 4,
   "id": "546c3be0",
   "metadata": {},
   "outputs": [
    {
     "data": {
      "text/plain": [
       "False"
      ]
     },
     "execution_count": 4,
     "metadata": {},
     "output_type": "execute_result"
    }
   ],
   "source": [
    "inside(1,1,0.3,0.5,1.1,0.7) and inside (1,1,0.5,0.2,1.1,0.7)"
   ]
  },
  {
   "cell_type": "markdown",
   "id": "6f2b8e40",
   "metadata": {},
   "source": [
    "Question 6:\n",
    "\n",
    "\n",
    "You can turn a word into pig-Latin using the following two rules (simplified):\n",
    "• If the word starts with a consonant, move that letter to the end and append\n",
    "'ay'. For example, 'happy' becomes 'appyhay' and 'pencil' becomes 'encilpay'.\n",
    "• If the word starts with a vowel, simply append 'way' to the end of the word.\n",
    "For example, 'enter' becomes 'enterway' and 'other' becomes 'otherway' . For\n",
    "our purposes, there are 5 vowels: a, e, i, o, u (so we count y as a consonant).\n",
    "Write a function pig() that takes a word (i.e., a string) as input and returns its pigLatin form. Your function should still work if the input word contains upper case\n",
    "characters. Your output should always be lower case however. "
   ]
  },
  {
   "cell_type": "code",
   "execution_count": 5,
   "id": "55e4a5fc",
   "metadata": {},
   "outputs": [],
   "source": [
    "def pig(word):\n",
    "    word = word.lower()                             # Convert the word to lowercase for consistent comparison\n",
    "\n",
    "    vowels = ['a', 'e', 'i', 'o', 'u']\n",
    "    if word[0] in vowels:                           # If the word starts with a vowel\n",
    "        pig_word = word + 'way'                     # Add 'way' to the end of the word\n",
    "    else:\n",
    "        pig_word = word[1:] + word[0] + 'ay'        # Move the first letter to the end and add 'ay'\n",
    "\n",
    "    return pig_word\n"
   ]
  },
  {
   "cell_type": "code",
   "execution_count": 6,
   "id": "b9f9083e",
   "metadata": {},
   "outputs": [
    {
     "name": "stdout",
     "output_type": "stream",
     "text": [
      "appyhay\n"
     ]
    }
   ],
   "source": [
    "print(pig('happy'))"
   ]
  },
  {
   "cell_type": "code",
   "execution_count": 7,
   "id": "53d831d6",
   "metadata": {},
   "outputs": [
    {
     "name": "stdout",
     "output_type": "stream",
     "text": [
      "enterway\n"
     ]
    }
   ],
   "source": [
    "print(pig('enter'))"
   ]
  },
  {
   "cell_type": "markdown",
   "id": "b36b7f49",
   "metadata": {},
   "source": [
    "Question 7:  \n",
    "\n",
    "File bloodtype1.txt records blood-types of patients (A, B, AB, O or OO) at a clinic.\n",
    "Write a function bldcount() that reads the file with name name and reports (i.e.,\n",
    "prints) how many patients there are in each bloodtype."
   ]
  },
  {
   "cell_type": "code",
   "execution_count": 53,
   "id": "4c01d73d",
   "metadata": {
    "scrolled": true
   },
   "outputs": [],
   "source": [
    "def bldcount(filename):\n",
    "    blood_counts = {}                                                                # Dictionary to store blood type counts\n",
    "\n",
    "    with open('bloodtype1.txt', 'r') as file:                                        # Open the file for reading\n",
    "        for line in file:  \n",
    "            blood_types = line.strip().split()                                       # Split the line into blood types\n",
    "            for blood_type in blood_types:  \n",
    "                if blood_type in blood_counts:  \n",
    "                    blood_counts[blood_type] += 1  \n",
    "                else:\n",
    "                    blood_counts[blood_type] = 1                                     # Initialize the count for a new blood type\n",
    "\n",
    "    for blood_type, count in blood_counts.items():  \n",
    "        if count == 1:\n",
    "            print(\"There is one patient of blood type\", blood_type + \".\")            # Print count for blood type (singular)\n",
    "        else:\n",
    "            print(\"There are\", count, \"patients of blood type\", blood_type + \".\")    # Print count for blood type (plural)\n",
    "\n",
    "\n",
    "\n",
    "\n"
   ]
  },
  {
   "cell_type": "code",
   "execution_count": 54,
   "id": "be311313",
   "metadata": {},
   "outputs": [
    {
     "name": "stdout",
     "output_type": "stream",
     "text": [
      "There are 13 patients of blood type AB.\n",
      "There is one patient of blood type B.\n",
      "There are 15 patients of blood type O.\n",
      "There are 15 patients of blood type A.\n"
     ]
    }
   ],
   "source": [
    "bldcount('bloodtype1.txt')\n"
   ]
  },
  {
   "cell_type": "markdown",
   "id": "7c7c9170",
   "metadata": {},
   "source": [
    "Question 9: \n",
    "\n",
    "Write a function curconv() that takes as input:\n",
    "1. a currency represented using a string (e.g., 'JPY' for the Japanese Yen or\n",
    "'EUR' for the Euro)\n",
    "2. an amount\n",
    "and then converts and returns the amount in US dollars."
   ]
  },
  {
   "cell_type": "code",
   "execution_count": 49,
   "id": "e3fd8da2",
   "metadata": {},
   "outputs": [],
   "source": [
    "def curconv(cur, amt): \n",
    "    exchange_rates = {}                                   # Create an empty dictionary to store the exchange rates\n",
    "\n",
    "    with open('currencies.txt', 'r') as infile:           # Open the 'currencies.txt' file for reading\n",
    "        for line in infile:                               # Read each line in the file\n",
    "            arr = line.split()                            # Split the line into currency code and exchange rate\n",
    "            exchange_rates[arr[0]] = float(arr[1])        # Store the currency code as the key and the exchange rate as the value in the dictionary\n",
    "\n",
    "    if cur in exchange_rates:                             # Check if the given currency code exists in the exchange_rates dictionary\n",
    "        amount_in_usd = amt * exchange_rates[cur]         # Calculate the amount in USD by multiplying the given amount with the exchange rate\n",
    "        return amount_in_usd\n",
    "    else:\n",
    "        return \"Currency not found\"\n",
    "\n",
    "       \n"
   ]
  },
  {
   "cell_type": "code",
   "execution_count": 50,
   "id": "056c02f0",
   "metadata": {},
   "outputs": [
    {
     "name": "stdout",
     "output_type": "stream",
     "text": [
      "122.96544\n"
     ]
    }
   ],
   "source": [
    "print(curconv('EUR',100))"
   ]
  },
  {
   "cell_type": "code",
   "execution_count": 51,
   "id": "27e8901a",
   "metadata": {},
   "outputs": [
    {
     "name": "stdout",
     "output_type": "stream",
     "text": [
      "1.241401\n"
     ]
    }
   ],
   "source": [
    "print(curconv('JPY',100))"
   ]
  },
  {
   "cell_type": "markdown",
   "id": "852a7c31",
   "metadata": {},
   "source": [
    "Question 9:\n",
    "    \n",
    "Each of the following will cause an exception (an error). Identify what type of\n",
    "exception each will cause.\n",
    "Trying to add incompatible variables, as in\n",
    "adding 6 + ‘a’\n",
    "Referring to the 12th item of a list that has only 10\n",
    "items\n",
    "Using a value that is out of range for a function’s\n",
    "input, such as calling math.sqrt(-1.0)\n",
    "Using an undeclared variable, such as print(x)\n",
    "when x has not been defined\n",
    "Trying to open a file that does not exist, such as\n",
    "mistyping the file name or looking in the wrong\n",
    "directory. "
   ]
  },
  {
   "cell_type": "code",
   "execution_count": 19,
   "id": "c5eead6c",
   "metadata": {},
   "outputs": [
    {
     "name": "stdout",
     "output_type": "stream",
     "text": [
      "TypeError: unsupported operand type(s) for +: 'int' and 'str'\n",
      "IndexError: list index out of range\n",
      "ValueError: math domain error\n",
      "NameError: name 'x' is not defined\n",
      "FileNotFoundError: [Errno 2] No such file or directory: 'nonexistent_file.txt'\n"
     ]
    }
   ],
   "source": [
    "import math\n",
    "\n",
    "try:                                                   # Trying to add incompatible variables\n",
    "    result = 6 + 'a'\n",
    "except TypeError as e:\n",
    "    print(f\"TypeError: {e}\")\n",
    "\n",
    "try:                                                   # Referring to the 12th item of a list that has only 10 items\n",
    "    my_list = [1, 2, 3, 4, 5, 6, 7, 8, 9, 10]\n",
    "    item = my_list[11]\n",
    "except IndexError as e:\n",
    "    print(f\"IndexError: {e}\")\n",
    "\n",
    "try:                                                   # Using a value that is out of range for a function's input\n",
    "    result = math.sqrt(-1.0)\n",
    "except ValueError as e:\n",
    "    print(f\"ValueError: {e}\")\n",
    "\n",
    "try:                                                   # Using an undeclared variable\n",
    "    print(x)\n",
    "except NameError as e:\n",
    "    print(f\"NameError: {e}\")\n",
    "\n",
    "try:                                                   # Trying to open a file that does not exist\n",
    "    file = open(\"nonexistent_file.txt\", \"r\")\n",
    "except FileNotFoundError as e:\n",
    "    print(f\"FileNotFoundError: {e}\")\n"
   ]
  },
  {
   "cell_type": "markdown",
   "id": "266bad0e",
   "metadata": {},
   "source": [
    "Question 10:\n",
    "\n",
    "Encryption is the process of hiding the meaning of a text by substituting letters in the\n",
    "message with other letters, according to some system. If the process is successful, no\n",
    "one but the intended recipient can understand the encrypted message. Cryptanalysis\n",
    "refers to attempts to undo the encryption, even if some details of the encryption are\n",
    "unknown (for example, if an encrypted message has been intercepted). The first step\n",
    "of cryptanalysis is often to build up a table of letter frequencies in the encrypted text.\n",
    "Assume that the string letters is already defined as\n",
    "'abcdefghijklmnopqrstuvwxyz'. Write a function called frequencies()\n",
    "that takes a string as its only parameter, and returns a list of integers, showing the\n",
    "number of times each character appears in the text. Your function may ignore any\n",
    "characters that are not in letters. "
   ]
  },
  {
   "cell_type": "code",
   "execution_count": 21,
   "id": "2aa3dd31",
   "metadata": {},
   "outputs": [
    {
     "name": "stdout",
     "output_type": "stream",
     "text": [
      "[1, 1, 1, 3, 5, 1, 1, 2, 1, 0, 1, 0, 1, 2, 4, 0, 1, 2, 0, 3, 1, 0, 1, 1, 0, 0]\n"
     ]
    }
   ],
   "source": [
    "def frequencies(text):\n",
    "    # Define the letters string\n",
    "    letters = 'abcdefghijklmnopqrstuvwxyz'\n",
    "\n",
    "    frequency_list = [0] * 26                            # Initialize a list to store the frequencies\n",
    "\n",
    "    text = text.lower()                               # Convert the text to lowercase for case-insensitive frequency calculation\n",
    "\n",
    "    for char in text:                                    # Iterate over each character in the text\n",
    "        if char in letters:                              # Check if the character is in the letters string\n",
    "            index = letters.index(char)                  # Get the index of the character in the letters string\n",
    "            frequency_list[index] += 1                   # Increment the frequency count for that character\n",
    "\n",
    "    return frequency_list\n",
    "\n",
    "# Example usage\n",
    "text = \"The quick red fox got bored and went home.\"\n",
    "result = frequencies(text)\n",
    "print(result)\n"
   ]
  },
  {
   "cell_type": "code",
   "execution_count": 22,
   "id": "b2469d3a",
   "metadata": {},
   "outputs": [
    {
     "name": "stdout",
     "output_type": "stream",
     "text": [
      "[1, 0, 0, 0, 1, 0, 0, 0, 0, 0, 0, 1, 0, 0, 0, 2, 0, 0, 0, 0, 0, 0, 0, 0, 0, 0]\n"
     ]
    }
   ],
   "source": [
    "result=frequencies('apple')\n",
    "print(result)"
   ]
  },
  {
   "cell_type": "code",
   "execution_count": null,
   "id": "9bc1e251",
   "metadata": {},
   "outputs": [],
   "source": []
  }
 ],
 "metadata": {
  "kernelspec": {
   "display_name": "Python 3 (ipykernel)",
   "language": "python",
   "name": "python3"
  },
  "language_info": {
   "codemirror_mode": {
    "name": "ipython",
    "version": 3
   },
   "file_extension": ".py",
   "mimetype": "text/x-python",
   "name": "python",
   "nbconvert_exporter": "python",
   "pygments_lexer": "ipython3",
   "version": "3.10.9"
  }
 },
 "nbformat": 4,
 "nbformat_minor": 5
}
